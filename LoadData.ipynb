{
 "cells": [
  {
   "cell_type": "markdown",
   "metadata": {},
   "source": [
    "# Load Data\n",
    "\n",
    "This file was included with the dataset and permit to load the dataset and display one of each class.\n",
    "\n",
    "It has been modified in order to remove skimage dependency."
   ]
  },
  {
   "cell_type": "code",
   "execution_count": 1,
   "metadata": {
    "ExecuteTime": {
     "end_time": "2017-12-20T09:05:56.597567Z",
     "start_time": "2017-12-20T09:05:55.897309Z"
    }
   },
   "outputs": [],
   "source": [
    "import glob, os \n",
    "from skimage import io, transform\n",
    "import numpy as np\n",
    "import matplotlib.pyplot as plt"
   ]
  },
  {
   "cell_type": "markdown",
   "metadata": {},
   "source": [
    "### Dataset path"
   ]
  },
  {
   "cell_type": "code",
   "execution_count": 2,
   "metadata": {
    "ExecuteTime": {
     "end_time": "2017-12-20T09:05:33.129976Z",
     "start_time": "2017-12-20T09:05:33.120363Z"
    },
    "scrolled": true
   },
   "outputs": [],
   "source": [
    "path = \"data/images/\"\n",
    "imlist = glob.glob(os.path.join(path, '*.jpg'))"
   ]
  },
  {
   "cell_type": "code",
   "execution_count": 3,
   "metadata": {
    "ExecuteTime": {
     "end_time": "2017-12-20T09:06:52.138301Z",
     "start_time": "2017-12-20T09:06:52.114428Z"
    }
   },
   "outputs": [],
   "source": [
    "def dataset(file_list, size=(300,180), flattened=False):\n",
    "    '''\n",
    "    Function to create a dataset. It will load all the images into a np.array \n",
    "    \n",
    "    Parameters: \n",
    "    \n",
    "    - file_list: List of all the images you want to include in the dataset. \n",
    "    - Size : Size of the images, by default is 180x300 which is the original size. \n",
    "    - flattened: By default is False. Creates a dataset, but each image get converted into a big vector. \n",
    "    \n",
    "    Output: \n",
    "    \n",
    "    data: it outputs the dataset as a big np array \n",
    "    labels : It outputs the binary label. 1 for pollen 0 for non pollen. \n",
    "    \n",
    "    '''\n",
    "    \n",
    "    data = []\n",
    "    for i, file in enumerate(file_list):\n",
    "        image = io.imread(file)\n",
    "        image = transform.resize(image, size, mode='constant') # adjust grain\n",
    "        if flattened:\n",
    "            image = image.flatten()\n",
    "\n",
    "        data.append(image)\n",
    "\n",
    "        \n",
    "    # On Windows, replace path \\ character by / :\n",
    "    # TODO: use os.path.join() or pathlib library instead\n",
    "    file_list = [f.replace(\"\\\\\", \"/\") if \"\\\\\" in f else f for f in file_list]\n",
    "    \n",
    "    labels = [1 if f.split(\"/\")[-1][0] == 'P' else 0 for f in file_list]\n",
    "    \n",
    "\n",
    "    return np.array(data), np.array(labels)"
   ]
  },
  {
   "cell_type": "code",
   "execution_count": 4,
   "metadata": {
    "ExecuteTime": {
     "end_time": "2017-12-20T09:06:54.869883Z",
     "start_time": "2017-12-20T09:06:52.748933Z"
    }
   },
   "outputs": [],
   "source": [
    "# Randomise the list of picture now because they are classified by name\n",
    "np.random.shuffle(imlist)\n",
    "\n",
    "# Load the dataset (may take a few seconds)\n",
    "X,y = dataset(imlist, (25, 15))\n",
    "\n",
    "datasetSize = X.shape[0]"
   ]
  },
  {
   "cell_type": "markdown",
   "metadata": {},
   "source": [
    "### Dataset dimensions"
   ]
  },
  {
   "cell_type": "code",
   "execution_count": 5,
   "metadata": {
    "scrolled": true
   },
   "outputs": [
    {
     "name": "stdout",
     "output_type": "stream",
     "text": [
      "X:  (714, 25, 15, 3)\n",
      "y:  (714,)\n"
     ]
    }
   ],
   "source": [
    "# X has the following structure: X[imageid, y, x, channel]\n",
    "print('X: ', X.shape)  # data\n",
    "print('y: ', y.shape)  # target"
   ]
  },
  {
   "cell_type": "code",
   "execution_count": 6,
   "metadata": {
    "scrolled": true
   },
   "outputs": [
    {
     "name": "stdout",
     "output_type": "stream",
     "text": [
      "Class 0:  345\n",
      "Class 1:  369\n",
      "Total  :  714\n",
      "[1 0 1 0 0 1 1 1 1 0 0 0 1 1 0 0 1 0 0 1 0 0 1 1 0 1 0 0 1 1 1 0 0 1 0 1 0\n",
      " 1 0 1 0 0 1 1 0 1 1 0 0 1 1 0 1 0 0 1 0 1 0 1 1 0 0 1 0 0 0 0 1 0 0 0 1 0\n",
      " 1 1 1 0 0 0 0 0 0 1 0 0 0 0 0 0 1 1 0 0 1 0 0 1 0 1 0 0 1 0 0 1 0 1 1 1 0\n",
      " 0 1 0 0 0 0 0 1 1 1 1 1 1 0 0 0 1 1 1 1 1 1 1 0 1 0 0 0 1 1 1 1 1 1 1 1 0\n",
      " 0 0 0 1 1 1 1 1 1 0 0 1 0 1 0 1 1 0 0 0 0 1 1 0 0 0 1 0 1 0 0 0 1 0 0 1 1\n",
      " 0 1 1 1 1 0 0 1 1 0 0 1 1 0 1 1 1 0 1 1 0 0 0 0 0 1 1 1 0 1 1 1 1 1 0 1 0\n",
      " 1 1 0 1 0 0 0 0 0 1 0 1 0 0 1 0 0 0 0 0 0 0 1 0 0 1 1 0 0 1 0 0 1 0 1 0 0\n",
      " 1 0 0 1 1 1 1 1 0 1 1 1 1 1 1 1 1 0 1 1 0 0 1 1 0 0 0 0 1 1 0 0 1 0 1 0 1\n",
      " 0 1 1 0 0 1 1 1 0 0 1 0 0 1 0 0 1 1 1 0 0 0 1 1 0 0 1 0 1 1 0 1 0 0 1 1 0\n",
      " 1 0 1 1 1 0 0 0 1 1 1 0 1 0 1 1 0 0 1 0 0 0 0 1 0 1 0 0 1 1 1 1 0 0 0 1 1\n",
      " 1 1 0 1 0 0 1 0 0 0 1 0 1 0 1 0 1 0 0 0 0 1 0 1 1 0 1 1 1 1 0 1 1 1 1 1 1\n",
      " 1 1 1 0 0 0 0 0 1 1 1 1 0 1 1 1 1 0 1 1 0 0 1 0 1 1 0 0 1 0 0 1 1 0 0 1 1\n",
      " 0 0 1 0 1 1 1 1 1 0 0 1 0 0 0 0 1 0 0 1 0 1 1 1 1 0 0 0 0 0 1 0 0 1 1 1 1\n",
      " 1 1 0 0 1 0 1 0 1 0 0 1 1 1 1 1 0 1 0 0 0 1 1 1 0 0 0 1 1 1 0 1 1 1 0 0 1\n",
      " 0 1 0 0 1 0 1 1 0 0 0 1 0 1 1 1 0 1 1 1 1 1 1 1 1 1 0 1 0 1 1 1 0 1 0 1 0\n",
      " 1 0 1 1 1 0 1 1 0 1 1 1 1 0 0 1 1 1 0 1 1 1 1 1 0 1 0 0 0 1 1 0 1 0 0 0 1\n",
      " 0 0 1 0 1 0 1 1 1 0 0 0 0 1 1 0 1 1 1 1 0 0 0 0 0 0 0 1 1 0 0 1 0 1 0 1 0\n",
      " 0 0 0 1 1 1 1 0 0 0 0 0 1 1 0 0 0 1 0 1 1 1 1 1 1 0 0 1 0 0 1 1 1 1 1 0 1\n",
      " 1 1 1 0 0 0 1 0 0 0 0 0 1 0 0 1 0 1 0 0 1 1 0 1 0 0 0 1 1 0 0 1 0 1 0 1 1\n",
      " 1 0 1 0 1 0 1 1 1 1 1]\n"
     ]
    }
   ],
   "source": [
    "print('Class 0: ', sum(y==0))\n",
    "print('Class 1: ', sum(y==1))\n",
    "print('Total  : ', len(y))\n",
    "print(y)"
   ]
  },
  {
   "cell_type": "markdown",
   "metadata": {},
   "source": [
    "### Classes examples"
   ]
  },
  {
   "cell_type": "code",
   "execution_count": 7,
   "metadata": {
    "ExecuteTime": {
     "end_time": "2017-12-20T09:06:55.931451Z",
     "start_time": "2017-12-20T09:06:55.916546Z"
    }
   },
   "outputs": [],
   "source": [
    "%matplotlib inline"
   ]
  },
  {
   "cell_type": "code",
   "execution_count": 8,
   "metadata": {
    "ExecuteTime": {
     "end_time": "2017-12-20T09:06:56.656917Z",
     "start_time": "2017-12-20T09:06:56.365513Z"
    }
   },
   "outputs": [
    {
     "data": {
      "text/plain": [
       "Text(0.5, 1.0, 'img 400 - class 0')"
      ]
     },
     "execution_count": 8,
     "metadata": {},
     "output_type": "execute_result"
    },
    {
     "data": {
      "image/png": "[encoded data removed]",
      "text/plain": [
       "<Figure size 432x288 with 2 Axes>"
      ]
     },
     "metadata": {
      "needs_background": "light"
     },
     "output_type": "display_data"
    }
   ],
   "source": [
    "### /!\\ ###########################################################\n",
    "# NO LONGER RELEVANT since the dataset has been randomised upstream\n",
    "###################################################################\n",
    "\n",
    "\n",
    "fig, axes = plt.subplots(1,2)\n",
    "k = 0\n",
    "plt.sca(axes[0])\n",
    "plt.imshow(X[k])\n",
    "plt.title('img {} - class {}'.format(k, y[k]))\n",
    "\n",
    "k = 400 # datasetSize-1 -> last bee (X[datasetSize-1]) don't seems holding pollen.. ?\n",
    "plt.sca(axes[1])\n",
    "plt.imshow(X[k])\n",
    "plt.title('img {} - class {}'.format(k, y[k]))"
   ]
  },
  {
   "cell_type": "markdown",
   "metadata": {},
   "source": [
    "### Divide the dataset into training and validation set(s) (TODO: cross-validation ?)"
   ]
  },
  {
   "cell_type": "code",
   "execution_count": 9,
   "metadata": {},
   "outputs": [],
   "source": [
    "def loadSubSets(X, y, ratio_train, ratio_valid):\n",
    "    '''\n",
    "    Function to create a dataset. It will load all the images into a np.array\n",
    "    \n",
    "    Parameters:\n",
    "    \n",
    "    - X : Vector of all the images of the dataset.\n",
    "    - y : Corresponding binary label vector. 1 for pollen 0 for non pollen.\n",
    "    - ratio_train : Desired percentage of dataset dedicated to train phase.\n",
    "    - ratio_valid : Desired percentage of dataset dedicated to valid phase.\n",
    "    \n",
    "    Output:\n",
    "\n",
    "    X_train : training phase images subset\n",
    "    y_train : training phase label subset.\n",
    "    X_valid : validation phase images subset\n",
    "    y_valid : validation phase label subset.\n",
    "    X_test  : testing phase images subset\n",
    "    y_test  : testing phase label subset.\n",
    "    \n",
    "    '''\n",
    "    ratio_test = 1 - ratio_train - ratio_valid\n",
    "    assert(ratio_test > 0)\n",
    "    \n",
    "    Ntot   = X.shape[0]\n",
    "    Ntrain = int(ratio_train*Ntot)\n",
    "    Nvalid = int(ratio_valid*Ntot)\n",
    "    Ntest  = Ntot - Ntrain - Nvalid\n",
    "    X_train = X[0: Ntrain].copy()\n",
    "    y_train = y[0: Ntrain].copy()\n",
    "    X_valid = X[Ntrain: Ntrain+Nvalid].copy()\n",
    "    y_valid = y[Ntrain: Ntrain+Nvalid].copy()\n",
    "    X_test  = X[-Ntest:].copy()\n",
    "    y_test  = y[-Ntest:].copy()\n",
    "    \n",
    "    return X_train, y_train, X_valid, y_valid, X_test, y_test"
   ]
  },
  {
   "cell_type": "code",
   "execution_count": 10,
   "metadata": {},
   "outputs": [],
   "source": [
    "# Example usage of previous function\n",
    "ratio_train = 0.6\n",
    "ratio_valid = 0.3\n",
    "\n",
    "X_train, y_train, X_valid, y_valid, X_test, y_test = loadSubSets(X, y, ratio_train, ratio_valid)"
   ]
  },
  {
   "cell_type": "markdown",
   "metadata": {},
   "source": [
    "### Large grain"
   ]
  },
  {
   "cell_type": "code",
   "execution_count": 11,
   "metadata": {},
   "outputs": [],
   "source": [
    "# X,y = dataset(imlist, (300, 180)) # default resolution\n",
    "# X,y = dataset(imlist, (150, 90))\n",
    "# X,y = dataset(imlist, (100, 60))\n",
    "# X,y = dataset(imlist, (25, 15))   # preferred resolution"
   ]
  },
  {
   "cell_type": "markdown",
   "metadata": {},
   "source": [
    "### TODO: Apply a more or less naive Bayesian on the training and validation data"
   ]
  },
  {
   "cell_type": "code",
   "execution_count": 12,
   "metadata": {},
   "outputs": [],
   "source": [
    "# \"sklearn.NaiveBayesian\".fit(...)\n",
    "\n",
    "# \"sklearn.NaiveBayesian\"predict(...)"
   ]
  },
  {
   "cell_type": "markdown",
   "metadata": {},
   "source": [
    "### TODO: Display test/validation scores graphs according to the ratio or to the grain hyperparameters"
   ]
  },
  {
   "cell_type": "code",
   "execution_count": 13,
   "metadata": {},
   "outputs": [
    {
     "data": {
      "text/plain": [
       "<matplotlib.legend.Legend at 0x26f7f74c518>"
      ]
     },
     "execution_count": 13,
     "metadata": {},
     "output_type": "execute_result"
    },
    {
     "data": {
      "image/png": "[encoded data removed]",
      "text/plain": [
       "<Figure size 432x288 with 1 Axes>"
      ]
     },
     "metadata": {
      "needs_background": "light"
     },
     "output_type": "display_data"
    }
   ],
   "source": [
    "plt.figure()\n",
    "plt.plot(np.arange(1, 20, 2), np.zeros(10), label= \"train score\")\n",
    "plt.plot(np.arange(1, 20, 2), np.ones(10), label= \"valid score\")\n",
    "plt.xlabel(\"ratio\")\n",
    "plt.ylabel(\"scores\")\n",
    "plt.title(\"Example graph result\")\n",
    "plt.legend()"
   ]
  },
  {
   "cell_type": "markdown",
   "metadata": {},
   "source": [
    "### BonusTODO: Implement PCA _(after grain adaptation but before bayesian)_"
   ]
  },
  {
   "cell_type": "code",
   "execution_count": 14,
   "metadata": {},
   "outputs": [],
   "source": [
    "# preProc = sklearn.decomposition.PCA(n_components=nc, copy=True)\n",
    "# preProc.fit(X_train)\n",
    "# ...\n",
    "\n",
    "# Change the number of components and estimate the best one with a small green dot as in TP3 part 2 :\n",
    "# plt.plot(..., ...[bestIndex], marker='X', color='green')"
   ]
  }
 ],
 "metadata": {
  "kernelspec": {
   "display_name": "Python 3",
   "language": "python",
   "name": "python3"
  },
  "language_info": {
   "codemirror_mode": {
    "name": "ipython",
    "version": 3
   },
   "file_extension": ".py",
   "mimetype": "text/x-python",
   "name": "python",
   "nbconvert_exporter": "python",
   "pygments_lexer": "ipython3",
   "version": "3.7.2"
  }
 },
 "nbformat": 4,
 "nbformat_minor": 2
}
