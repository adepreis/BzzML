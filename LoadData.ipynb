{
 "cells": [
  {
   "cell_type": "markdown",
   "metadata": {},
   "source": [
    "# Load Data\n",
    "\n",
    "This file was included with the dataset and permitted initially to load the dataset and display one of each class.\n",
    "\n",
    "It has been modified in order to train and test a Naive Bayesian model."
   ]
  },
  {
   "cell_type": "code",
   "execution_count": 1,
   "metadata": {
    "ExecuteTime": {
     "end_time": "2017-12-20T09:05:56.597567Z",
     "start_time": "2017-12-20T09:05:55.897309Z"
    }
   },
   "outputs": [],
   "source": [
    "import glob, os \n",
    "from skimage import io, transform, filters, segmentation\n",
    "import numpy as np\n",
    "import matplotlib.pyplot as plt\n",
    "import matplotlib.cm as cm\n",
    "from sklearn.naive_bayes import GaussianNB, ComplementNB, BernoulliNB, CategoricalNB\n",
    "from sklearn.decomposition import PCA\n",
    "from skimage.color import rgb2gray"
   ]
  },
  {
   "cell_type": "markdown",
   "metadata": {},
   "source": [
    "### Dataset path"
   ]
  },
  {
   "cell_type": "code",
   "execution_count": 2,
   "metadata": {
    "ExecuteTime": {
     "end_time": "2017-12-20T09:05:33.129976Z",
     "start_time": "2017-12-20T09:05:33.120363Z"
    },
    "scrolled": true
   },
   "outputs": [],
   "source": [
    "path = \"data/images/\"\n",
    "imlist = glob.glob(os.path.join(path, '*.jpg'))"
   ]
  },
  {
   "cell_type": "code",
   "execution_count": 3,
   "metadata": {
    "ExecuteTime": {
     "end_time": "2017-12-20T09:06:52.138301Z",
     "start_time": "2017-12-20T09:06:52.114428Z"
    }
   },
   "outputs": [],
   "source": [
    "def dataset(file_list, size=(300,180), flattened=False, grayScale=False, filt='sobel'):\n",
    "    '''\n",
    "    Function to create a dataset. It will load all the images into a np.array \n",
    "    \n",
    "    Parameters: \n",
    "    \n",
    "    - file_list: List of all the images you want to include in the dataset. \n",
    "    - Size : Size of the images, by default is 180x300 which is the original size. \n",
    "    - flattened: By default is False. Creates a dataset, but each image get converted into a big vector. \n",
    "    \n",
    "    Output: \n",
    "    \n",
    "    data: it outputs the dataset as a big np array \n",
    "    labels : It outputs the binary label. 1 for pollen 0 for non pollen. \n",
    "    \n",
    "    '''\n",
    "    if type(filt) != str:\n",
    "        raise ValueError(\"Incorrect format for filter.\")\n",
    "            \n",
    "    data = []\n",
    "    for i, file in enumerate(file_list):\n",
    "        image = io.imread(file)\n",
    "        if filt == 'sobel':\n",
    "            image = filters.sobel(image)\n",
    "                \n",
    "        if grayScale:\n",
    "            image = rgb2gray(image)\n",
    "        \n",
    "        if filt == 'chan_vese':\n",
    "            cv = segmentation.chan_vese(image, mu=0.45, lambda1=0, lambda2=2, tol=1e-3, max_iter=200,\n",
    "                       dt=0.75, init_level_set=\"checkerboard\", extended_output=True)\n",
    "            image = cv[1]\n",
    "        \n",
    "        image = transform.resize(image, size, mode='constant') # adjust grain\n",
    "        \n",
    "        if flattened:\n",
    "            image = image.flatten()\n",
    "\n",
    "        data.append(image)\n",
    "\n",
    "        \n",
    "    # On Windows, replace path \\ character by / :\n",
    "    # TODO: use os.path.join() or pathlib library instead\n",
    "    file_list = [f.replace(\"\\\\\", \"/\") if \"\\\\\" in f else f for f in file_list]\n",
    "    \n",
    "    labels = [1 if f.split(\"/\")[-1][0] == 'P' else 0 for f in file_list]\n",
    "    \n",
    "\n",
    "    return np.array(data), np.array(labels)"
   ]
  },
  {
   "cell_type": "markdown",
   "metadata": {},
   "source": [
    "### Large grain"
   ]
  },
  {
   "cell_type": "code",
   "execution_count": 4,
   "metadata": {},
   "outputs": [],
   "source": [
    "# size = (300, 180) # default resolution\n",
    "# size = (150, 90)\n",
    "# size = (100, 60)\n",
    "# size = (30, 18)\n",
    "# size = (25, 15)\n",
    "size = (20, 12)   # preferred resolution\n",
    "# size = (15, 9)    # too small\n",
    "nbClasses = 2"
   ]
  },
  {
   "cell_type": "markdown",
   "metadata": {},
   "source": [
    "### Load the dataset"
   ]
  },
  {
   "cell_type": "code",
   "execution_count": 5,
   "metadata": {
    "ExecuteTime": {
     "end_time": "2017-12-20T09:06:54.869883Z",
     "start_time": "2017-12-20T09:06:52.748933Z"
    }
   },
   "outputs": [],
   "source": [
    "# Randomise the list of picture now because they are classified by name\n",
    "np.random.shuffle(imlist)\n",
    "\n",
    "# Loading may take a few seconds\n",
    "X,y = dataset(imlist, size, True, True, 'sobel')"
   ]
  },
  {
   "cell_type": "markdown",
   "metadata": {},
   "source": [
    "### Dataset dimensions"
   ]
  },
  {
   "cell_type": "code",
   "execution_count": 6,
   "metadata": {
    "scrolled": true
   },
   "outputs": [
    {
     "name": "stdout",
     "output_type": "stream",
     "text": [
      "X:  (714, 240)\n",
      "y:  (714,)\n"
     ]
    }
   ],
   "source": [
    "datasetSize = X.shape[0]\n",
    "\n",
    "# if (flattened=False)\n",
    "#    X has the following structure: X[imageid, x*y]\n",
    "# else\n",
    "#    X has the following structure: X[imageid, y, x, channel]\n",
    "print('X: ', X.shape)  # data\n",
    "print('y: ', y.shape)  # target"
   ]
  },
  {
   "cell_type": "code",
   "execution_count": 7,
   "metadata": {
    "scrolled": true
   },
   "outputs": [
    {
     "name": "stdout",
     "output_type": "stream",
     "text": [
      "Class 0:  345\n",
      "Class 1:  369\n",
      "Total  :  714\n",
      "[0 0 1 0 1 1 0 0 1 0 0 0 0 1 0 0 0 0 1 1 1 1 1 0 0 0 1 1 1 0 1 1 0 1 0 0 1\n",
      " 1 1 1 1 1 1 0 1 0 0 0 1 0 0 1 1 0 0 0 1 1 0 1 1 0 0 0 1 0 1 0 0 0 1 0 0 0\n",
      " 0 0 0 1 1 1 1 0 0 1 0 1 1 1 1 0 1 1 1 1 1 0 0 0 1 0 0 1 1 1 1 1 0 0 1 1 1\n",
      " 1 0 1 0 1 1 1 1 0 1 0 1 1 1 1 0 0 1 0 1 0 1 0 1 1 1 0 1 1 1 0 1 1 0 0 0 1\n",
      " 0 1 1 1 0 0 0 0 0 1 0 0 1 1 1 0 0 0 0 0 0 1 1 0 1 1 1 1 0 0 1 1 0 0 0 1 1\n",
      " 1 1 1 0 1 1 1 0 1 0 1 0 1 1 0 0 0 1 1 0 0 0 1 1 1 0 0 1 0 0 1 0 1 0 1 0 1\n",
      " 1 0 1 0 1 0 1 0 1 0 0 1 1 0 0 0 1 1 0 1 1 0 0 0 0 1 0 1 0 1 0 0 0 0 0 1 1\n",
      " 0 0 1 1 0 1 1 0 1 1 1 1 0 1 1 0 0 1 0 1 0 1 0 1 1 0 1 0 0 0 1 0 1 1 0 1 0\n",
      " 0 1 0 1 0 0 1 0 1 1 0 0 1 0 1 0 1 1 1 0 0 0 0 0 0 0 0 0 1 0 1 1 0 0 0 0 0\n",
      " 1 0 0 1 1 1 0 1 0 1 0 1 0 1 0 1 1 1 0 1 1 0 0 1 0 0 1 0 1 1 0 1 0 0 0 0 1\n",
      " 1 0 0 0 0 0 0 0 0 1 1 0 0 0 0 1 0 0 0 0 1 0 1 0 1 0 1 0 1 1 1 1 1 0 0 1 1\n",
      " 1 1 0 0 1 1 0 1 1 0 0 1 0 0 1 0 0 0 0 1 1 1 1 1 1 0 1 1 1 0 1 1 1 1 0 1 1\n",
      " 1 1 0 0 1 1 0 1 0 0 0 0 1 0 1 1 0 1 1 1 1 1 0 1 1 1 1 0 1 1 0 1 0 0 1 1 0\n",
      " 0 1 1 1 1 1 0 1 0 1 1 0 1 0 0 0 1 1 0 0 0 1 0 1 0 1 0 1 1 0 1 0 1 1 0 0 0\n",
      " 1 1 0 0 0 0 0 1 1 0 1 0 1 1 0 1 0 0 1 1 0 0 0 0 1 0 1 0 0 1 0 0 0 1 0 0 0\n",
      " 0 0 0 0 1 1 0 0 0 0 0 0 0 1 0 0 1 1 1 0 0 1 0 1 1 1 1 0 1 0 1 1 0 0 1 1 0\n",
      " 0 0 1 0 1 1 0 1 1 1 0 1 0 1 0 0 1 1 0 1 1 1 0 0 0 1 0 1 1 0 0 1 0 1 0 1 1\n",
      " 0 1 1 0 1 1 0 1 0 1 0 1 1 1 1 1 1 0 1 1 0 0 0 1 1 1 1 0 0 0 0 0 1 0 1 0 1\n",
      " 1 0 0 1 1 1 0 1 1 0 1 1 0 1 1 1 0 1 1 1 1 1 0 1 1 1 0 1 1 1 1 1 1 1 1 0 0\n",
      " 1 1 1 1 1 0 0 1 0 0 1]\n"
     ]
    }
   ],
   "source": [
    "print('Class 0: ', sum(y==0))\n",
    "print('Class 1: ', sum(y==1))\n",
    "print('Total  : ', len(y))\n",
    "print(y)"
   ]
  },
  {
   "cell_type": "markdown",
   "metadata": {},
   "source": [
    "### Classes examples"
   ]
  },
  {
   "cell_type": "code",
   "execution_count": 8,
   "metadata": {
    "ExecuteTime": {
     "end_time": "2017-12-20T09:06:55.931451Z",
     "start_time": "2017-12-20T09:06:55.916546Z"
    }
   },
   "outputs": [],
   "source": [
    "%matplotlib inline"
   ]
  },
  {
   "cell_type": "code",
   "execution_count": 9,
   "metadata": {
    "ExecuteTime": {
     "end_time": "2017-12-20T09:06:56.656917Z",
     "start_time": "2017-12-20T09:06:56.365513Z"
    }
   },
   "outputs": [
    {
     "data": {
      "text/plain": [
       "Text(0.5, 1.0, 'img 2 - class 1')"
      ]
     },
     "execution_count": 9,
     "metadata": {},
     "output_type": "execute_result"
    },
    {
     "data": {
      "image/png": "[encoded data removed]",
      "text/plain": [
       "<Figure size 432x288 with 2 Axes>"
      ]
     },
     "metadata": {
      "needs_background": "light"
     },
     "output_type": "display_data"
    }
   ],
   "source": [
    "fig, axes = plt.subplots(1,2)\n",
    "\n",
    "k = np.where(y == 0)[0][0]    # first occurence of class 0\n",
    "plt.sca(axes[0])\n",
    "plt.imshow(X[k].reshape(size), cmap=\"gray\")\n",
    "plt.title('img {} - class {}'.format(k, y[k]))\n",
    "\n",
    "k = np.where(y == 1)[0][0]    # first occurence of class 1\n",
    "plt.sca(axes[1])\n",
    "plt.imshow(X[k].reshape(size), cmap=\"gray\")\n",
    "plt.title('img {} - class {}'.format(k, y[k]))"
   ]
  },
  {
   "cell_type": "markdown",
   "metadata": {},
   "source": [
    "### Divide the dataset into training and validation set(s)"
   ]
  },
  {
   "cell_type": "code",
   "execution_count": 10,
   "metadata": {},
   "outputs": [],
   "source": [
    "def loadSubSets(X, y, ratio_train, ratio_valid):\n",
    "    '''\n",
    "    Function to create a dataset. It will load all the images into a np.array\n",
    "    \n",
    "    Parameters:\n",
    "    \n",
    "    - X : Vector of all the images of the dataset.\n",
    "    - y : Corresponding binary label vector. 1 for pollen 0 for non pollen.\n",
    "    - ratio_train : Desired percentage of dataset dedicated to train phase.\n",
    "    - ratio_valid : Desired percentage of dataset dedicated to valid phase.\n",
    "    \n",
    "    Output:\n",
    "\n",
    "    X_train : training phase images subset\n",
    "    y_train : training phase label subset.\n",
    "    X_valid : validation phase images subset\n",
    "    y_valid : validation phase label subset.\n",
    "    X_test  : testing phase images subset\n",
    "    y_test  : testing phase label subset.\n",
    "    \n",
    "    '''\n",
    "    ratio_test = 1 - ratio_train - ratio_valid\n",
    "    assert(ratio_test > 0)\n",
    "    \n",
    "    Ntot   = X.shape[0]\n",
    "    Ntrain = int(ratio_train*Ntot)\n",
    "    Nvalid = int(ratio_valid*Ntot)\n",
    "    Ntest  = Ntot - Ntrain - Nvalid\n",
    "    X_train = X[0: Ntrain].copy()\n",
    "    y_train = y[0: Ntrain].copy()\n",
    "    X_valid = X[Ntrain: Ntrain+Nvalid].copy()\n",
    "    y_valid = y[Ntrain: Ntrain+Nvalid].copy()\n",
    "    X_test  = X[-Ntest:].copy()\n",
    "    y_test  = y[-Ntest:].copy()\n",
    "    \n",
    "    return X_train, y_train, X_valid, y_valid, X_test, y_test"
   ]
  },
  {
   "cell_type": "code",
   "execution_count": 11,
   "metadata": {},
   "outputs": [],
   "source": [
    "# Example usage of previous function\n",
    "ratio_train = 0.6\n",
    "ratio_valid = 0.3\n",
    "\n",
    "X_train, y_train, X_valid, y_valid, X_test, y_test = loadSubSets(X, y, ratio_train, ratio_valid)"
   ]
  },
  {
   "cell_type": "code",
   "execution_count": 12,
   "metadata": {
    "scrolled": true
   },
   "outputs": [
    {
     "name": "stdout",
     "output_type": "stream",
     "text": [
      "X_train (428, 240)\n",
      "y_train (428,)\n",
      "X_valid (214, 240)\n",
      "y_valid (214,)\n",
      "X_test (72, 240)\n",
      "y_test (72,)\n"
     ]
    }
   ],
   "source": [
    "print(\"X_train\", X_train.shape)\n",
    "print(\"y_train\", y_train.shape)\n",
    "print(\"X_valid\", X_valid.shape)\n",
    "print(\"y_valid\", y_valid.shape)\n",
    "print(\"X_test\", X_test.shape)\n",
    "print(\"y_test\", y_test.shape)"
   ]
  },
  {
   "cell_type": "markdown",
   "metadata": {},
   "source": [
    "## Apply (Gaussian) Naive Bayesian on the training and validation data\n",
    "### Example without PCA"
   ]
  },
  {
   "cell_type": "code",
   "execution_count": 13,
   "metadata": {},
   "outputs": [
    {
     "name": "stdout",
     "output_type": "stream",
     "text": [
      "Number of mislabeled points  60 / 214  points\n",
      "Score : ~72%\n"
     ]
    }
   ],
   "source": [
    "classifierType = \"GAUS\"\n",
    "\n",
    "if classifierType == \"GAUS\":\n",
    "    clf = GaussianNB()\n",
    "if classifierType == \"COMP\":\n",
    "    clf = ComplementNB()\n",
    "if classifierType == \"BERN\":\n",
    "    clf = BernoulliNB()\n",
    "if classifierType == \"CATE\":\n",
    "    clf = CategoricalNB()\n",
    "\n",
    "clf.fit(X_train, y_train)\n",
    "\n",
    "if classifierType == \"GAUS\":\n",
    "    mean1, mean2 = clf.theta_    # used later to display \"learned parameters\"\n",
    "\n",
    "y_pred = clf.predict(X_valid)\n",
    "\n",
    "print(\"Number of mislabeled points \", (y_valid != y_pred).sum(), \"/\", X_valid.shape[0], \" points\" )\n",
    "print(\"Score : ~{0:.0%}\".format(clf.score(X_valid, y_valid)))"
   ]
  },
  {
   "cell_type": "code",
   "execution_count": 14,
   "metadata": {},
   "outputs": [
    {
     "name": "stdout",
     "output_type": "stream",
     "text": [
      "0 = non pollen carrying, 1 = pollen carrying, but not sure to which means it correspond..\n"
     ]
    },
    {
     "data": {
      "image/png": "[encoded data removed]",
      "text/plain": [
       "<Figure size 432x288 with 2 Axes>"
      ]
     },
     "metadata": {
      "needs_background": "light"
     },
     "output_type": "display_data"
    }
   ],
   "source": [
    "if classifierType == \"GAUS\":\n",
    "    # Display \"learned parameters\"\n",
    "    f, (ax1, ax2) = plt.subplots(1, 2, sharey=True)\n",
    "    ax1.imshow(mean1.reshape(size), cm.gray)\n",
    "    ax2.imshow(mean2.reshape(size), cm.gray)\n",
    "    ax1.title.set_text(\"Mean if the 0 (?) class\")\n",
    "    ax2.title.set_text(\"Mean if the 1 (?) class\")\n",
    "    print(\"0 = non pollen carrying, 1 = pollen carrying, but not sure to which means it correspond..\")"
   ]
  },
  {
   "cell_type": "markdown",
   "metadata": {},
   "source": [
    "### With PCA (testing differents n_comp values)"
   ]
  },
  {
   "cell_type": "code",
   "execution_count": 15,
   "metadata": {},
   "outputs": [],
   "source": [
    "linear_training_score = []\n",
    "linear_valid_score = []\n",
    "\n",
    "# For differents values of n_components, realize\n",
    "# a PCA then a supervised learning of the classes\n",
    "nComp_range = np.arange(1, X.shape[1], 5)  # TODO: change 5 for a more adapted step ?\n",
    "\n",
    "for nC in nComp_range:\n",
    "    preProc = PCA(n_components=nC, copy=True)\n",
    "    preProc.fit(X_train)\n",
    "    \n",
    "    X_train_Transformed = preProc.transform(X_train)\n",
    "    X_valid_Transformed = preProc.transform(X_valid)\n",
    "    \n",
    "    # Supervised learning of classes using a GaussianNB\n",
    "    clf = GaussianNB()\n",
    "    \n",
    "    # Transform the data according to this learned transformation\n",
    "    clf.fit(X_train_Transformed, y_train)\n",
    "\n",
    "    # mean1, mean2 = clf.theta_    # too much nbComp to display each mean ? store the best ?\n",
    "    \n",
    "    # Compute the scores using clf.score()\n",
    "    trainscore = clf.score(X_train_Transformed, y_train)\n",
    "    validscore = clf.score(X_valid_Transformed, y_valid)\n",
    "    \n",
    "    linear_training_score.append(trainscore)\n",
    "    linear_valid_score.   append(validscore)"
   ]
  },
  {
   "cell_type": "markdown",
   "metadata": {},
   "source": [
    "#### Display test/validation scores graphs according to the PCA comp' number"
   ]
  },
  {
   "cell_type": "code",
   "execution_count": 16,
   "metadata": {},
   "outputs": [
    {
     "data": {
      "text/plain": [
       "Text(0.5, 1.0, 'Best score : ~81% obtained with 31 components')"
      ]
     },
     "execution_count": 16,
     "metadata": {},
     "output_type": "execute_result"
    },
    {
     "data": {
      "image/png": "[encoded data removed]",
      "text/plain": [
       "<Figure size 432x288 with 1 Axes>"
      ]
     },
     "metadata": {
      "needs_background": "light"
     },
     "output_type": "display_data"
    }
   ],
   "source": [
    "# plot scores depending on the nComp hyper-param\n",
    "plt.figure()\n",
    "plt.plot(nComp_range, linear_training_score, label= \"train score\")\n",
    "plt.plot(nComp_range, linear_valid_score   , label= \"valid score\")\n",
    "plt.xlabel(\"number of components\")\n",
    "plt.ylabel(\"scores\")\n",
    "plt.legend()\n",
    "plt.ylim([0.5,1])\n",
    "\n",
    "# Display best validation set configuration (without taking into account overfitting)\n",
    "# TODO: refined it by hand ?\n",
    "bestIndex = np.argmax(linear_valid_score)\n",
    "bestNC = nComp_range[bestIndex]\n",
    "plt.plot(bestNC, linear_valid_score[bestIndex], marker='X', color='green')\n",
    "plt.title(\"Best score : ~{0:.0%}\".format(linear_valid_score[bestIndex]) + \" obtained with \" + str(bestNC) + \" components\")"
   ]
  },
  {
   "cell_type": "markdown",
   "metadata": {},
   "source": [
    "### TODO: Display test/validation scores graphs according to the ratio or to the grain hyperparameters"
   ]
  },
  {
   "cell_type": "markdown",
   "metadata": {},
   "source": [
    "TODO: choose only ONE 'hyper-param' in addition to PCA comp because of 2D graph\n",
    "      while fluctuating parameters and display graphs :\n",
    "```py\n",
    "# for (train=40% to train=80%)\n",
    "#     for (smallGrain to largeGrain)\n",
    "#         (for (compPCA in range(0 to 375)) ?)\n",
    "#             fit()\n",
    "#             predict()\n",
    "#             plot learning vs. testing curves\n",
    "```\n",
    "\n",
    "Display Mean Squared Error in loop ?\n",
    "\n",
    "(TODO: cross-validation ?) w/ module https://scikit-learn.org/stable/modules/classes.html#module-sklearn.model_selection\n",
    "\n",
    "Try other NB ? see [#Example-without-PCA](./LoadData.ipynb#Example-without-PCA).. Maybe not in loops but manually to selet the proper one ?"
   ]
  },
  {
   "cell_type": "code",
   "execution_count": null,
   "metadata": {},
   "outputs": [],
   "source": []
  },
  {
   "cell_type": "code",
   "execution_count": null,
   "metadata": {},
   "outputs": [],
   "source": []
  },
  {
   "cell_type": "code",
   "execution_count": null,
   "metadata": {},
   "outputs": [],
   "source": []
  },
  {
   "cell_type": "markdown",
   "metadata": {},
   "source": [
    "### BonusTODO: Implement PCA _(after grain adaptation but before bayesian)_\n",
    "\n",
    "More \"documentation\" about PCA"
   ]
  },
  {
   "cell_type": "code",
   "execution_count": 17,
   "metadata": {},
   "outputs": [
    {
     "name": "stdout",
     "output_type": "stream",
     "text": [
      "composantes retenues : 39\n"
     ]
    }
   ],
   "source": [
    "#### TODO: INTEGRATE INTO LOOP ? ####\n",
    "#####################################\n",
    "\n",
    "# preProc = PCA(n_components=nc, copy=True)\n",
    "# preProc.fit(X_train)\n",
    "# ...\n",
    "varianceExplained=0.95\n",
    "preProc = PCA(n_components=varianceExplained) # fix the hyperparameters of this transformation\n",
    "preProc.fit(X_train)                          # learn on a part and not all the dataset\n",
    "\n",
    "# Display the number of components retained\n",
    "print(\"composantes retenues : \" + str(preProc.components_.shape[0]))"
   ]
  },
  {
   "cell_type": "code",
   "execution_count": 18,
   "metadata": {},
   "outputs": [
    {
     "name": "stdout",
     "output_type": "stream",
     "text": [
      "Retained components : 39\n"
     ]
    },
    {
     "data": {
      "text/plain": [
       "(0, 1)"
      ]
     },
     "execution_count": 18,
     "metadata": {},
     "output_type": "execute_result"
    },
    {
     "data": {
      "image/png": "[encoded data removed]",
      "text/plain": [
       "<Figure size 432x288 with 1 Axes>"
      ]
     },
     "metadata": {
      "needs_background": "light"
     },
     "output_type": "display_data"
    }
   ],
   "source": [
    "#### TODO: INTEGRATE INTO LOOP ? ####\n",
    "#####################################\n",
    "\n",
    "# preProc = PCA(n_components=nc, copy=True)\n",
    "# preProc.fit(X_train)\n",
    "# ...\n",
    "varianceExplained=0.95\n",
    "preProc = PCA(n_components=varianceExplained) # fix the hyperparameters of this transformation\n",
    "preProc.fit(X_train)                          # learn on a part and not all the dataset\n",
    "\n",
    "# Display the number of components retained\n",
    "print(\"Retained components : \" + str(preProc.components_.shape[0]))\n",
    "\n",
    "# Displays the cumulative explained variances for all feasible\n",
    "# n_component choices (with expl_var between 0 and 0.95)\n",
    "CumulativeExplainedVariance = np.cumsum(preProc.explained_variance_ratio_)\n",
    "plt.plot(CumulativeExplainedVariance)\n",
    "plt.ylim([0,1])"
   ]
  },
  {
   "cell_type": "code",
   "execution_count": 19,
   "metadata": {},
   "outputs": [
    {
     "name": "stdout",
     "output_type": "stream",
     "text": [
      "MSE totale (Mean Squared Error) 0.0001019307731730477\n"
     ]
    },
    {
     "data": {
      "text/plain": [
       "Text(0.5, 1.0, 'The same bee after(?) \"binarization\"')"
      ]
     },
     "execution_count": 19,
     "metadata": {},
     "output_type": "execute_result"
    },
    {
     "data": {
      "image/png": "[encoded data removed]",
      "text/plain": [
       "<Figure size 432x288 with 1 Axes>"
      ]
     },
     "metadata": {
      "needs_background": "light"
     },
     "output_type": "display_data"
    },
    {
     "data": {
      "image/png": "[encoded data removed]",
      "text/plain": [
       "<Figure size 432x288 with 1 Axes>"
      ]
     },
     "metadata": {
      "needs_background": "light"
     },
     "output_type": "display_data"
    }
   ],
   "source": [
    "X_train_Transformed = preProc.transform(X_test)\n",
    "\n",
    "# For an image after \"compression\" by PCA, calculate the corresponding decompressed image.\n",
    "# Calculate the decompressed version of the entire train-set.\n",
    "X_train_Transf_decompressed = preProc.inverse_transform(X_train_Transformed)\n",
    "diff = X_train_Transf_decompressed - X_test # array of size Nx 64\n",
    "\n",
    "# Calculate the reconstruction error (root mean square error on the pixels) for that image.\n",
    "# Calculates the mean square error over the entire train set\n",
    "totalMeanSquaredError = np.mean(diff**2)\n",
    "print(\"MSE totale (Mean Squared Error)\", totalMeanSquaredError)\n",
    "\n",
    "\n",
    "# TODO: Eventually, do this in a function so that we can quickly compare any\n",
    "#       training example before and after compression/decompression visually.\n",
    "plt.figure()\n",
    "n=60       # choose random image in the dataset\n",
    "plt.imshow(X_train                    [n].reshape(size) , cm.gray)\n",
    "plt.title(\"Bee (\"+ (\"with\" if (y[n]==1) else \"without\" )+ \" pollen) before \\\"binarization\\\"\")\n",
    "plt.figure()\n",
    "plt.imshow(X_train_Transf_decompressed[n].reshape(size) , cm.gray)\n",
    "plt.title(\"The same bee after(?) \\\"binarization\\\"\")"
   ]
  },
  {
   "cell_type": "code",
   "execution_count": 20,
   "metadata": {},
   "outputs": [
    {
     "data": {
      "text/plain": [
       "Text(0, 0.5, 'error')"
      ]
     },
     "execution_count": 20,
     "metadata": {},
     "output_type": "execute_result"
    },
    {
     "data": {
      "image/png": "[encoded data removed]",
      "text/plain": [
       "<Figure size 432x288 with 1 Axes>"
      ]
     },
     "metadata": {
      "needs_background": "light"
     },
     "output_type": "display_data"
    }
   ],
   "source": [
    "D = X.shape[1]\n",
    "D = 80\n",
    "errors = np.zeros(D)\n",
    "for i, nc in enumerate(range(D)): \n",
    "    preProc = PCA(n_components=nc, copy=True)\n",
    "    preProc.fit(X_train)  # calculating the sklearn passage matrix\n",
    "    X_train_Transformed = preProc.transform(X_train)\n",
    "    X_train_Transf_decompressed = preProc.inverse_transform(X_train_Transformed)\n",
    "\n",
    "    diff = X_train_Transf_decompressed - X_train # array of size Nx 64\n",
    "    totalMeanSquaredError = np.mean(diff**2)\n",
    "    errors[i] = totalMeanSquaredError\n",
    "\n",
    "plt.plot(np.arange(D), errors)\n",
    "plt.xlabel(\"n_comp\")\n",
    "plt.ylabel(\"error\")"
   ]
  },
  {
   "cell_type": "code",
   "execution_count": null,
   "metadata": {},
   "outputs": [],
   "source": []
  }
 ],
 "metadata": {
  "kernelspec": {
   "display_name": "Python 3",
   "language": "python",
   "name": "python3"
  },
  "language_info": {
   "codemirror_mode": {
    "name": "ipython",
    "version": 3
   },
   "file_extension": ".py",
   "mimetype": "text/x-python",
   "name": "python",
   "nbconvert_exporter": "python",
   "pygments_lexer": "ipython3",
   "version": "3.7.2"
  }
 },
 "nbformat": 4,
 "nbformat_minor": 2
}
