{
 "cells": [
  {
   "cell_type": "markdown",
   "metadata": {},
   "source": [
    "# Load Data\n",
    "\n",
    "This file was included with the dataset and permitted initially to load the dataset and display one of each class.\n",
    "\n",
    "It has been modified in order to train and test a Naive Bayesian model."
   ]
  },
  {
   "cell_type": "code",
   "execution_count": 1,
   "metadata": {
    "ExecuteTime": {
     "end_time": "2017-12-20T09:05:56.597567Z",
     "start_time": "2017-12-20T09:05:55.897309Z"
    }
   },
   "outputs": [],
   "source": [
    "import glob, os \n",
    "from skimage import io, transform, filters, segmentation\n",
    "import numpy as np\n",
    "import matplotlib.pyplot as plt\n",
    "import matplotlib.cm as cm\n",
    "from sklearn.naive_bayes import GaussianNB, ComplementNB, BernoulliNB, CategoricalNB\n",
    "from sklearn.neighbors import KNeighborsClassifier\n",
    "from sklearn.decomposition import PCA\n",
    "from sklearn.svm import SVC, LinearSVC, SVR\n",
    "from skimage.color import rgb2gray"
   ]
  },
  {
   "cell_type": "markdown",
   "metadata": {},
   "source": [
    "### Dataset path"
   ]
  },
  {
   "cell_type": "code",
   "execution_count": 2,
   "metadata": {
    "ExecuteTime": {
     "end_time": "2017-12-20T09:05:33.129976Z",
     "start_time": "2017-12-20T09:05:33.120363Z"
    },
    "scrolled": true
   },
   "outputs": [],
   "source": [
    "path = \"data/images/\"\n",
    "imlist = glob.glob(os.path.join(path, '*.jpg'))"
   ]
  },
  {
   "cell_type": "code",
   "execution_count": 3,
   "metadata": {
    "ExecuteTime": {
     "end_time": "2017-12-20T09:06:52.138301Z",
     "start_time": "2017-12-20T09:06:52.114428Z"
    }
   },
   "outputs": [],
   "source": [
    "def dataset(file_list, size=(300,180), flattened=False, grayScale=False, filt='none'):\n",
    "    '''\n",
    "    Function to create a dataset. It will load all the images into a np.array \n",
    "    \n",
    "    Parameters: \n",
    "    \n",
    "    - file_list: List of all the images you want to include in the dataset. \n",
    "    - Size : Size of the images, by default is 180x300 which is the original size. \n",
    "    - flattened: By default is False. Creates a dataset, but each image get converted into a big vector. \n",
    "    \n",
    "    Output: \n",
    "    \n",
    "    data: it outputs the dataset as a big np array \n",
    "    labels : It outputs the binary label. 1 for pollen 0 for non pollen. \n",
    "    \n",
    "    '''\n",
    "    if type(filt) != str:\n",
    "        raise ValueError(\"Incorrect format for filter.\")\n",
    "            \n",
    "    data = []\n",
    "    for i, file in enumerate(file_list):\n",
    "        image = io.imread(file)\n",
    "        if filt == 'sobel':\n",
    "            image = filters.sobel(image)\n",
    "                \n",
    "        if grayScale:\n",
    "            image = rgb2gray(image)\n",
    "        \n",
    "        if filt == 'chan_vese':\n",
    "            cv = segmentation.chan_vese(image, mu=0.45, lambda1=0, lambda2=2, tol=1e-3, max_iter=200,\n",
    "                       dt=0.75, init_level_set=\"checkerboard\", extended_output=True)\n",
    "            image = cv[1]\n",
    "        \n",
    "        image = transform.resize(image, size, mode='constant') # adjust grain\n",
    "        \n",
    "        if flattened:\n",
    "            image = image.flatten()\n",
    "\n",
    "        data.append(image)\n",
    "\n",
    "        \n",
    "    # On Windows, replace path \\ character by / :\n",
    "    # TODO: use os.path.join() or pathlib library instead\n",
    "    file_list = [f.replace(\"\\\\\", \"/\") if \"\\\\\" in f else f for f in file_list]\n",
    "    \n",
    "    labels = [1 if f.split(\"/\")[-1][0] == 'P' else 0 for f in file_list]\n",
    "    \n",
    "\n",
    "    return np.array(data), np.array(labels)"
   ]
  },
  {
   "cell_type": "markdown",
   "metadata": {},
   "source": [
    "### Large grain"
   ]
  },
  {
   "cell_type": "code",
   "execution_count": 4,
   "metadata": {},
   "outputs": [],
   "source": [
    "# size = (300, 180) # default resolution\n",
    "# size = (150, 90)\n",
    "# size = (100, 60)\n",
    "# size = (30, 18)\n",
    "# size = (25, 15)\n",
    "size = (20, 12)   # preferred resolution\n",
    "# size = (15, 9)    # too small\n",
    "nbClasses = 2"
   ]
  },
  {
   "cell_type": "markdown",
   "metadata": {},
   "source": [
    "### Load the dataset"
   ]
  },
  {
   "cell_type": "code",
   "execution_count": 5,
   "metadata": {
    "ExecuteTime": {
     "end_time": "2017-12-20T09:06:54.869883Z",
     "start_time": "2017-12-20T09:06:52.748933Z"
    }
   },
   "outputs": [],
   "source": [
    "# Randomise the list of picture now because they are classified by name\n",
    "np.random.shuffle(imlist)\n",
    "\n",
    "# Loading may take a few seconds\n",
    "X,y = dataset(imlist, size, True, True, 'sobel')"
   ]
  },
  {
   "cell_type": "markdown",
   "metadata": {},
   "source": [
    "### Dataset dimensions"
   ]
  },
  {
   "cell_type": "code",
   "execution_count": 6,
   "metadata": {
    "scrolled": true
   },
   "outputs": [
    {
     "name": "stdout",
     "output_type": "stream",
     "text": [
      "X:  (714, 240)\n",
      "y:  (714,)\n"
     ]
    }
   ],
   "source": [
    "datasetSize = X.shape[0]\n",
    "\n",
    "# if (flattened=False)\n",
    "#    X has the following structure: X[imageid, x*y]\n",
    "# else\n",
    "#    X has the following structure: X[imageid, y, x, channel]\n",
    "print('X: ', X.shape)  # data\n",
    "print('y: ', y.shape)  # target"
   ]
  },
  {
   "cell_type": "code",
   "execution_count": 7,
   "metadata": {
    "scrolled": true
   },
   "outputs": [
    {
     "name": "stdout",
     "output_type": "stream",
     "text": [
      "Class 0:  345\n",
      "Class 1:  369\n",
      "Total  :  714\n",
      "[0 1 1 1 0 1 0 0 1 1 1 0 1 0 1 0 0 0 0 0 0 1 1 1 0 0 0 1 0 0 0 1 1 1 0 0 0\n",
      " 1 1 0 0 1 0 1 1 1 0 0 0 0 1 1 1 0 1 0 1 1 0 1 0 0 0 0 0 0 1 1 1 0 0 1 1 0\n",
      " 0 1 0 1 1 0 1 0 1 1 0 0 1 0 0 1 1 0 1 1 1 1 0 0 1 1 0 0 1 1 1 1 0 1 1 1 1\n",
      " 1 0 1 0 0 1 1 1 0 0 0 1 1 1 1 1 1 0 0 1 0 1 1 0 0 0 1 1 1 0 1 1 0 1 0 1 1\n",
      " 1 1 0 0 0 0 0 1 0 0 1 0 1 1 0 1 0 0 0 1 1 1 1 1 1 1 0 0 1 0 1 1 1 0 1 1 1\n",
      " 1 1 1 1 0 0 1 1 0 0 1 0 0 0 1 0 1 1 1 0 1 0 0 0 1 0 1 1 1 1 1 0 1 1 0 0 0\n",
      " 0 0 1 0 1 0 0 0 0 1 1 1 1 1 1 0 1 0 1 0 0 0 1 0 0 1 1 0 0 1 0 1 1 1 1 1 1\n",
      " 1 0 1 0 0 0 1 1 1 1 1 0 1 1 1 0 0 0 1 1 1 0 0 1 0 1 0 0 0 0 1 1 0 0 1 0 1\n",
      " 1 0 0 1 1 1 0 0 0 1 1 1 1 0 1 0 1 1 0 1 0 1 1 0 1 1 1 1 0 0 1 1 1 0 1 0 1\n",
      " 0 0 1 0 0 1 0 1 0 1 0 1 1 0 0 0 1 0 0 0 0 0 0 0 0 0 1 1 0 1 1 0 0 0 1 0 1\n",
      " 1 1 0 1 1 0 1 1 0 0 0 1 0 0 0 0 1 0 1 1 1 0 0 0 0 1 1 0 1 1 0 0 1 1 0 0 1\n",
      " 1 1 0 0 1 1 1 0 0 0 1 1 0 1 1 0 1 0 1 0 0 1 1 1 0 1 0 0 1 0 1 0 0 0 0 0 1\n",
      " 1 0 0 1 1 1 0 0 1 0 0 1 1 0 0 0 0 0 1 0 0 1 1 1 1 1 1 1 1 0 1 0 1 0 1 1 0\n",
      " 1 1 1 0 0 1 0 1 1 1 1 1 0 0 1 0 0 0 1 0 1 1 1 1 0 0 1 1 0 0 0 1 0 1 1 1 0\n",
      " 0 0 0 1 1 0 1 0 0 0 1 0 1 0 0 1 1 1 1 1 0 1 0 0 1 0 1 0 0 1 1 0 1 0 1 1 1\n",
      " 0 0 0 1 0 0 1 0 0 0 0 0 0 0 0 0 0 1 1 1 0 0 0 0 0 1 1 0 0 0 1 1 0 0 0 0 0\n",
      " 0 0 0 1 0 1 1 0 1 0 1 0 0 0 1 1 1 1 1 1 1 1 1 0 1 0 1 1 1 1 1 0 0 0 1 0 0\n",
      " 1 0 0 0 1 1 1 0 1 1 0 1 1 1 0 1 1 0 1 1 1 0 0 1 0 1 0 0 1 0 0 0 0 1 1 1 0\n",
      " 1 1 0 0 1 1 0 1 0 1 1 0 0 1 1 1 0 1 1 0 1 1 1 1 0 0 1 0 0 1 0 1 1 0 0 0 1\n",
      " 1 1 1 0 1 0 1 0 0 1 1]\n"
     ]
    }
   ],
   "source": [
    "print('Class 0: ', sum(y==0))\n",
    "print('Class 1: ', sum(y==1))\n",
    "print('Total  : ', len(y))\n",
    "print(y)"
   ]
  },
  {
   "cell_type": "markdown",
   "metadata": {},
   "source": [
    "### Classes examples"
   ]
  },
  {
   "cell_type": "code",
   "execution_count": 8,
   "metadata": {
    "ExecuteTime": {
     "end_time": "2017-12-20T09:06:55.931451Z",
     "start_time": "2017-12-20T09:06:55.916546Z"
    }
   },
   "outputs": [],
   "source": [
    "%matplotlib inline"
   ]
  },
  {
   "cell_type": "code",
   "execution_count": 9,
   "metadata": {
    "ExecuteTime": {
     "end_time": "2017-12-20T09:06:56.656917Z",
     "start_time": "2017-12-20T09:06:56.365513Z"
    }
   },
   "outputs": [
    {
     "data": {
      "text/plain": [
       "Text(0.5, 1.0, 'img 1 - class 1')"
      ]
     },
     "execution_count": 9,
     "metadata": {},
     "output_type": "execute_result"
    },
    {
     "data": {
      "image/png": "[encoded data removed]",
      "text/plain": [
       "<Figure size 432x288 with 2 Axes>"
      ]
     },
     "metadata": {
      "needs_background": "light"
     },
     "output_type": "display_data"
    }
   ],
   "source": [
    "fig, axes = plt.subplots(1,2)\n",
    "\n",
    "k = np.where(y == 0)[0][0]    # first occurence of class 0\n",
    "plt.sca(axes[0])\n",
    "plt.imshow(X[k].reshape(size), cmap=\"gray\")\n",
    "plt.title('img {} - class {}'.format(k, y[k]))\n",
    "\n",
    "k = np.where(y == 1)[0][0]    # first occurence of class 1\n",
    "plt.sca(axes[1])\n",
    "plt.imshow(X[k].reshape(size), cmap=\"gray\")\n",
    "plt.title('img {} - class {}'.format(k, y[k]))"
   ]
  },
  {
   "cell_type": "markdown",
   "metadata": {},
   "source": [
    "### Divide the dataset into training and validation set(s)"
   ]
  },
  {
   "cell_type": "code",
   "execution_count": 10,
   "metadata": {},
   "outputs": [],
   "source": [
    "def loadSubSets(X, y, ratio_train, ratio_valid):\n",
    "    '''\n",
    "    Function to create a dataset. It will load all the images into a np.array\n",
    "    \n",
    "    Parameters:\n",
    "    \n",
    "    - X : Vector of all the images of the dataset.\n",
    "    - y : Corresponding binary label vector. 1 for pollen 0 for non pollen.\n",
    "    - ratio_train : Desired percentage of dataset dedicated to train phase.\n",
    "    - ratio_valid : Desired percentage of dataset dedicated to valid phase.\n",
    "    \n",
    "    Output:\n",
    "\n",
    "    X_train : training phase images subset\n",
    "    y_train : training phase label subset.\n",
    "    X_valid : validation phase images subset\n",
    "    y_valid : validation phase label subset.\n",
    "    X_test  : testing phase images subset\n",
    "    y_test  : testing phase label subset.\n",
    "    \n",
    "    '''\n",
    "    ratio_test = 1 - ratio_train - ratio_valid\n",
    "    assert(ratio_test > 0)\n",
    "    \n",
    "    Ntot   = X.shape[0]\n",
    "    Ntrain = int(ratio_train*Ntot)\n",
    "    Nvalid = int(ratio_valid*Ntot)\n",
    "    Ntest  = Ntot - Ntrain - Nvalid\n",
    "    X_train = X[0: Ntrain].copy()\n",
    "    y_train = y[0: Ntrain].copy()\n",
    "    X_valid = X[Ntrain: Ntrain+Nvalid].copy()\n",
    "    y_valid = y[Ntrain: Ntrain+Nvalid].copy()\n",
    "    X_test  = X[-Ntest:].copy()\n",
    "    y_test  = y[-Ntest:].copy()\n",
    "    \n",
    "    return X_train, y_train, X_valid, y_valid, X_test, y_test"
   ]
  },
  {
   "cell_type": "code",
   "execution_count": 11,
   "metadata": {},
   "outputs": [
    {
     "name": "stdout",
     "output_type": "stream",
     "text": [
      "X_train (428, 240)  / y_train (428,)\n",
      "X_valid (214, 240)  / y_valid (214,)\n",
      "X_test (72, 240)  / y_test (72,)\n"
     ]
    }
   ],
   "source": [
    "# Example usage of previous function\n",
    "ratio_train = 0.6\n",
    "ratio_valid = 0.3\n",
    "\n",
    "X_train, y_train, X_valid, y_valid, X_test, y_test = loadSubSets(X, y, ratio_train, ratio_valid)\n",
    "\n",
    "print(\"X_train\", X_train.shape, \" / y_train\", y_train.shape)\n",
    "print(\"X_valid\", X_valid.shape, \" / y_valid\", y_valid.shape)\n",
    "print(\"X_test\", X_test.shape,   \" / y_test\", y_test.shape)"
   ]
  },
  {
   "cell_type": "markdown",
   "metadata": {},
   "source": [
    "## Apply (Gaussian) Naive Bayesian on the training and validation data\n",
    "### Example without PCA"
   ]
  },
  {
   "cell_type": "code",
   "execution_count": 12,
   "metadata": {},
   "outputs": [
    {
     "name": "stdout",
     "output_type": "stream",
     "text": [
      "Number of mislabeled points  36 / 214  points\n",
      "Score : ~83.2%\n"
     ]
    }
   ],
   "source": [
    "# Try other NB manually to select the proper one\n",
    "# AFTER comparison, GaussianNB have the best results\n",
    "classifierType = \"SVC\"\n",
    "\n",
    "if classifierType == \"GAUS\":\n",
    "    clf = GaussianNB()\n",
    "if classifierType == \"BERN\":\n",
    "    clf = BernoulliNB()\n",
    "if classifierType == \"CATE\":\n",
    "    clf = CategoricalNB()\n",
    "if classifierType == \"K-NN\":\n",
    "    clf = KNeighborsClassifier(n_neighbors=2, weights='uniform')\n",
    "if classifierType == \"SVC\":\n",
    "    clf = SVC()\n",
    "if classifierType == \"LSVC\":\n",
    "    clf = LinearSVC()\n",
    "if classifierType == \"SVR\":\n",
    "    clf = SVR()\n",
    "\n",
    "clf.fit(X_train, y_train)\n",
    "\n",
    "if classifierType == \"GAUS\":\n",
    "    mean1, mean2 = clf.theta_    # used later to display \"learned parameters\"\n",
    "\n",
    "y_pred = clf.predict(X_valid)\n",
    "\n",
    "print(\"Number of mislabeled points \", (y_valid != y_pred).sum(), \"/\", X_valid.shape[0], \" points\" )\n",
    "print(\"Score : ~{0:.1%}\".format(clf.score(X_valid, y_valid)))"
   ]
  },
  {
   "cell_type": "code",
   "execution_count": 13,
   "metadata": {},
   "outputs": [],
   "source": [
    "if classifierType == \"GAUS\":\n",
    "    # Display \"learned parameters\"\n",
    "    f, (ax1, ax2) = plt.subplots(1, 2, sharey=True)\n",
    "    ax1.imshow(mean1.reshape(size), cm.gray)\n",
    "    ax2.imshow(mean2.reshape(size), cm.gray)\n",
    "    ax1.title.set_text(\"Mean of the 0 (?) class\")\n",
    "    ax2.title.set_text(\"Mean of the 1 (?) class\")\n",
    "    print(\"0 = non pollen carrying, 1 = pollen carrying, but not sure to which means it correspond..\")"
   ]
  },
  {
   "cell_type": "markdown",
   "metadata": {},
   "source": [
    "### With PCA (testing differents n_comp values)"
   ]
  },
  {
   "cell_type": "code",
   "execution_count": 14,
   "metadata": {},
   "outputs": [],
   "source": [
    "linear_training_score = []\n",
    "linear_valid_score = []\n",
    "bestValidScore = 0\n",
    "\n",
    "# For differents values of n_components, realize\n",
    "# a PCA then a supervised learning of the classes\n",
    "nComp_range = np.arange(1, X.shape[1], 5)  # TODO: change 5 for a more adapted step ?\n",
    "\n",
    "for nC in nComp_range:\n",
    "    preProc = PCA(n_components=nC, copy=True)\n",
    "    preProc.fit(X_train)\n",
    "    \n",
    "    X_train_Transformed = preProc.transform(X_train)\n",
    "    X_valid_Transformed = preProc.transform(X_valid)\n",
    "    \n",
    "    # Supervised learning of classes using a GaussianNB\n",
    "    #clf = GaussianNB()\n",
    "    \n",
    "    if classifierType == \"GAUS\":\n",
    "        clf = GaussianNB()\n",
    "    if classifierType == \"BERN\":\n",
    "        clf = BernoulliNB()\n",
    "    if classifierType == \"CATE\":\n",
    "        clf = CategoricalNB()\n",
    "    if classifierType == \"K-NN\":\n",
    "        clf = KNeighborsClassifier(n_neighbors=2, weights='uniform')\n",
    "    if classifierType == \"SVC\":\n",
    "        clf = SVC()\n",
    "    if classifierType == \"LSVC\":\n",
    "        clf = LinearSVC()\n",
    "    if classifierType == \"SVR\":\n",
    "        clf = SVR()\n",
    "    \n",
    "    # Transform the data according to this learned transformation\n",
    "    clf.fit(X_train_Transformed, y_train)\n",
    "    \n",
    "    # Compute the scores using clf.score()\n",
    "    trainscore = clf.score(X_train_Transformed, y_train)\n",
    "    validscore = clf.score(X_valid_Transformed, y_valid)\n",
    "    \n",
    "    if classifierType == \"GAUS\":\n",
    "        if(validscore > bestValidScore):\n",
    "            mean1, mean2 = clf.theta_    # store the best mean\n",
    "    \n",
    "    linear_training_score.append(trainscore)\n",
    "    linear_valid_score.   append(validscore)"
   ]
  },
  {
   "cell_type": "markdown",
   "metadata": {},
   "source": [
    "#### Display test/validation scores graphs according to the PCA comp' number"
   ]
  },
  {
   "cell_type": "code",
   "execution_count": 15,
   "metadata": {},
   "outputs": [],
   "source": [
    "def plot_trainVSvalid(name, training_score_data, valid_score_data, comp_range, ax):\n",
    "    ax.plot(comp_range, training_score_data, label= \"train score\")\n",
    "    ax.plot(comp_range, valid_score_data   , label= \"valid score\")\n",
    "    ax.set_xlabel(\"number of components\")\n",
    "    ax.set_ylabel(\"scores\")\n",
    "    ax.legend()\n",
    "    ax.set_ylim([0.5,1])\n",
    "\n",
    "    # Display best validation set configuration (without taking overfitting into account)\n",
    "    # TODO: refined it by hand ?\n",
    "    bestIndex = np.argmax(valid_score_data)\n",
    "    bestNC = comp_range[bestIndex]\n",
    "    gap = training_score_data[bestIndex] - valid_score_data[bestIndex]\n",
    "    ax.plot(bestNC, valid_score_data[bestIndex], marker='X', color='green')\n",
    "    ax.set_title(\"Best score for \" + name + \" : ~{0:.1%}\".format(valid_score_data[bestIndex])\n",
    "                 + \" obtained with \\n\" + str(bestNC) + \" components (with a {:.2f}\".format(gap*10) + \" gap to train)\")\n",
    "    \n",
    "    return bestNC"
   ]
  },
  {
   "cell_type": "code",
   "execution_count": 16,
   "metadata": {},
   "outputs": [
    {
     "data": {
      "image/png": "[encoded data removed]",
      "text/plain": [
       "<Figure size 864x432 with 3 Axes>"
      ]
     },
     "metadata": {
      "needs_background": "light"
     },
     "output_type": "display_data"
    }
   ],
   "source": [
    "f, (ax1, ax2, ax3) = plt.subplots(1, 3, figsize=(12, 6), gridspec_kw={'width_ratios': [10, 5, 5]})\n",
    "\n",
    "# plot scores depending on the nComp hyper-param\n",
    "#plt.figure()\n",
    "\n",
    "bestNC = plot_trainVSvalid(classifierType, linear_training_score, linear_valid_score, nComp_range, ax1)\n",
    "\n",
    "# ax2.imshow(mean1.reshape(size), cm.gray)\n",
    "# ax3.imshow(mean2.reshape(size), cm.gray)\n",
    "# ax2.title.set_text(\"Best mean (class 0 (?))\")\n",
    "# ax3.title.set_text(\"Best mean (class 1 (?))\")"
   ]
  },
  {
   "cell_type": "markdown",
   "metadata": {},
   "source": [
    "### Adjust SVC parameters"
   ]
  },
  {
   "cell_type": "code",
   "execution_count": 26,
   "metadata": {},
   "outputs": [
    {
     "data": {
      "image/png": "[encoded data removed]",
      "text/plain": [
       "<Figure size 432x288 with 1 Axes>"
      ]
     },
     "metadata": {
      "needs_background": "light"
     },
     "output_type": "display_data"
    },
    {
     "data": {
      "image/png": "[encoded data removed]",
      "text/plain": [
       "<Figure size 432x288 with 1 Axes>"
      ]
     },
     "metadata": {
      "needs_background": "light"
     },
     "output_type": "display_data"
    },
    {
     "data": {
      "image/png": "[encoded data removed]",
      "text/plain": [
       "<Figure size 432x288 with 1 Axes>"
      ]
     },
     "metadata": {
      "needs_background": "light"
     },
     "output_type": "display_data"
    },
    {
     "data": {
      "image/png": "[encoded data removed]",
      "text/plain": [
       "<Figure size 432x288 with 1 Axes>"
      ]
     },
     "metadata": {
      "needs_background": "light"
     },
     "output_type": "display_data"
    }
   ],
   "source": [
    "# Set PCA to best nComp computed before\n",
    "preProc = PCA(n_components=bestNC, copy=True)\n",
    "preProc.fit(X_train)\n",
    "\n",
    "X_train_Transformed = preProc.transform(X_train)\n",
    "X_valid_Transformed = preProc.transform(X_valid)\n",
    "\n",
    "degree = 2      # Ignored by all kernels except 'poly'\n",
    "gamma = 2       # float or 'scale' or 'auto' (kernel coefficient for ‘rbf’, ‘poly’ and ‘sigmoid’)\n",
    "\n",
    "for kernel in ('linear', 'poly', 'rbf', 'sigmoid'):\n",
    "    linear_training_score = []\n",
    "    linear_valid_score = []\n",
    "    \n",
    "    # Regularization parameter. The strength of the regularization is inversely proportional to C\n",
    "    for C in range(1, 13):\n",
    "        clf = SVC(C=C, kernel=kernel, degree=degree, gamma=gamma)\n",
    "        clf.fit(X_train_Transformed, y_train)\n",
    "\n",
    "        linear_training_score.append(clf.score(X_train_Transformed, y_train))\n",
    "        linear_valid_score.   append(clf.score(X_valid_Transformed, y_valid))\n",
    "    \n",
    "    fig, ax = plt.subplots()\n",
    "    plot_trainVSvalid((\"kernel=\" + str(kernel)), linear_training_score, linear_valid_score, range(1, 13), ax)"
   ]
  },
  {
   "cell_type": "code",
   "execution_count": null,
   "metadata": {},
   "outputs": [],
   "source": []
  },
  {
   "cell_type": "code",
   "execution_count": null,
   "metadata": {},
   "outputs": [],
   "source": []
  },
  {
   "cell_type": "code",
   "execution_count": null,
   "metadata": {},
   "outputs": [],
   "source": []
  },
  {
   "cell_type": "markdown",
   "metadata": {},
   "source": [
    "### TODO: later..\n",
    "\n",
    "Implement cross-validation w/ module https://scikit-learn.org/stable/modules/classes.html#module-sklearn.model_selection\n",
    "\n",
    "Display Mean Squared Error in loop ?\n",
    "\n",
    "#### Example :"
   ]
  },
  {
   "cell_type": "code",
   "execution_count": 18,
   "metadata": {},
   "outputs": [
    {
     "name": "stdout",
     "output_type": "stream",
     "text": [
      "MSE totale (Mean Squared Error) 6.33829428622498e-05\n"
     ]
    },
    {
     "data": {
      "text/plain": [
       "Text(0.5, 1.0, 'The same bee after(?) \"binarization\"')"
      ]
     },
     "execution_count": 18,
     "metadata": {},
     "output_type": "execute_result"
    },
    {
     "data": {
      "image/png": "[encoded data removed]",
      "text/plain": [
       "<Figure size 432x288 with 1 Axes>"
      ]
     },
     "metadata": {
      "needs_background": "light"
     },
     "output_type": "display_data"
    },
    {
     "data": {
      "image/png": "[encoded data removed]",
      "text/plain": [
       "<Figure size 432x288 with 1 Axes>"
      ]
     },
     "metadata": {
      "needs_background": "light"
     },
     "output_type": "display_data"
    }
   ],
   "source": [
    "X_train_Transformed = preProc.transform(X_test)\n",
    "\n",
    "# For an image after \"compression\" by PCA, calculate the corresponding decompressed image.\n",
    "# Calculate the decompressed version of the entire train-set.\n",
    "X_train_Transf_decompressed = preProc.inverse_transform(X_train_Transformed)\n",
    "diff = X_train_Transf_decompressed - X_test # array of size Nx 64\n",
    "\n",
    "# Calculate the reconstruction error (root mean square error on the pixels) for that image.\n",
    "# Calculates the mean square error over the entire train set\n",
    "totalMeanSquaredError = np.mean(diff**2)\n",
    "print(\"MSE totale (Mean Squared Error)\", totalMeanSquaredError)\n",
    "\n",
    "\n",
    "# TODO: Eventually, do this in a function so that we can quickly compare any\n",
    "#       training example before and after compression/decompression visually.\n",
    "plt.figure()\n",
    "n=60       # choose random image in the dataset\n",
    "plt.imshow(X_train                    [n].reshape(size) , cm.gray)\n",
    "plt.title(\"Bee (\"+ (\"with\" if (y[n]==1) else \"without\" )+ \" pollen) before \\\"binarization\\\"\")\n",
    "plt.figure()\n",
    "plt.imshow(X_train_Transf_decompressed[n].reshape(size) , cm.gray)\n",
    "plt.title(\"The same bee after(?) \\\"binarization\\\"\")"
   ]
  },
  {
   "cell_type": "code",
   "execution_count": null,
   "metadata": {},
   "outputs": [],
   "source": []
  }
 ],
 "metadata": {
  "kernelspec": {
   "display_name": "Python 3",
   "language": "python",
   "name": "python3"
  },
  "language_info": {
   "codemirror_mode": {
    "name": "ipython",
    "version": 3
   },
   "file_extension": ".py",
   "mimetype": "text/x-python",
   "name": "python",
   "nbconvert_exporter": "python",
   "pygments_lexer": "ipython3",
   "version": "3.7.2"
  }
 },
 "nbformat": 4,
 "nbformat_minor": 2
}
